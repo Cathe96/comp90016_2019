{
 "cells": [
  {
   "cell_type": "markdown",
   "metadata": {},
   "source": [
    "# Week 4 - Quality control for sequencing data\n",
    "\n",
    "Say you had a biological question of interest that could be solved by sequencing. Say you received some funding to perform a sequencing run (lucky you!). The biologist runs the sample in a sequencer (you may know a few machines by now) and deliver a file containing all your reads. It is possible that there were problems in the sequencer or the starting material used for sequencing (DNA). Before you make your awesome discovery and report it, you want to be sure that the data you have is error free. This is where quality control helps (QC).\n",
    "\n",
    "This week you will write your own modules to perform QC.\n",
    "\n",
    "## Task 1 - Reading in the readsets\n",
    "\n",
    "We read in a sample read set. This is created by selecting some reads from the ERR024571 read set."
   ]
  },
  {
   "cell_type": "code",
   "execution_count": null,
   "metadata": {},
   "outputs": [],
   "source": [
    "import skbio\n",
    "\n",
    "fname = 'data/reads.fastq' \n",
    "registry = skbio.io.read(fname, format = 'fastq', phred_offset = 33)\n",
    "readset = list(registry)\n",
    "len(readset)"
   ]
  },
  {
   "cell_type": "markdown",
   "metadata": {},
   "source": [
    "## Task 2 - Compute *per sequence* qualities\n",
    "\n",
    "The per sequence quality is the average of base qualities forming the sequence. For sequence 1, that is:"
   ]
  },
  {
   "cell_type": "code",
   "execution_count": null,
   "metadata": {},
   "outputs": [],
   "source": [
    "r1_meta = readset[0].positional_metadata\n",
    "r1_meta.head()"
   ]
  },
  {
   "cell_type": "markdown",
   "metadata": {},
   "source": [
    "### Crash course on `pandas` and `numpy`\n",
    "\n",
    "This is a pandas data frame object. Most data can be stored in data frames and many functions to process them are available in the `pandas` library. We will first try out a few indexing operations and write up a function to compute the per sequence quality.\n",
    "\n",
    "> Get started with `pandas` with this tutorial - http://pandas.pydata.org/pandas-docs/stable/getting_started/10min.html"
   ]
  },
  {
   "cell_type": "code",
   "execution_count": null,
   "metadata": {},
   "outputs": [],
   "source": [
    "import pandas as pd\n",
    "import numpy as np\n",
    "\n",
    "# all of these indexes give the same results. Think of 2-D matrices\n",
    "# here we index using positions\n",
    "print(r1_meta.iloc[:3,])\n",
    "print(r1_meta.iloc[0:3, 0:1])\n",
    "print(r1_meta.iloc[0:3, :])\n",
    "print(r1_meta.iloc[0:3,])\n",
    "print(r1_meta.iloc[:3,])"
   ]
  },
  {
   "cell_type": "markdown",
   "metadata": {},
   "source": [
    "Above we use information on the position along the data frame (i.e. rows 0:3 and column 0:1). Instead of this, we could use *row names* and *column names* to index. In the example below, 0:2 refers to the rows with names '0', '1', and '2' and the column with the name 'quality'. Since we slice the columns and select just one, what we get is a `numpy` array.\n",
    "\n",
    "A simple way to reason about these `numpy` arrays is to think of them as vectors and matrices. A vector or matrix with named rows and columns is a `pandas` data frame."
   ]
  },
  {
   "cell_type": "code",
   "execution_count": null,
   "metadata": {},
   "outputs": [],
   "source": [
    "#this gives the same result but returns an array (think vectors)\n",
    "# here we index using names - 0, 1, and 2 are row names rather than positions\n",
    "print(r1_meta.loc[0:2, 'quality'])"
   ]
  },
  {
   "cell_type": "code",
   "execution_count": null,
   "metadata": {},
   "outputs": [],
   "source": [
    "# retrieve base quality at position 6\n",
    "r1_qualities = r1_meta.loc[:, 'quality']\n",
    "r1_qualities[2]"
   ]
  },
  {
   "cell_type": "markdown",
   "metadata": {},
   "source": [
    "We can now write a function to compute the sequence quality of a given sequence"
   ]
  },
  {
   "cell_type": "code",
   "execution_count": null,
   "metadata": {},
   "outputs": [],
   "source": [
    "def read_quality_with_loop(read):\n",
    "    \"\"\"\n",
    "    Compute the quality of a given read (DNA sequence).\n",
    "    This is the average of base qualities.\n",
    "    Return a single number representing the quality\n",
    "    \"\"\"\n",
    "    \n",
    "    #retrieve metadata\n",
    "    metadata = read.positional_metadata\n",
    "    #select the column containing quality information\n",
    "    qualities = metadata.loc[:, 'quality']\n",
    "    \n",
    "    avg_quality = 0\n",
    "    for phred_score in qualities:\n",
    "        avg_quality += phred_score\n",
    "    return avg_quality / len(qualities)\n",
    "    "
   ]
  },
  {
   "cell_type": "code",
   "execution_count": null,
   "metadata": {},
   "outputs": [],
   "source": [
    "print(read_quality_with_loop(readset[0])) # should give 27.36"
   ]
  },
  {
   "cell_type": "markdown",
   "metadata": {},
   "source": [
    "The same can be done in an easier way using functions from the `numpy` library. This implementation is also considerably faster."
   ]
  },
  {
   "cell_type": "code",
   "execution_count": null,
   "metadata": {},
   "outputs": [],
   "source": [
    "def read_quality(read):\n",
    "    \"\"\"\n",
    "    Compute the quality of a given read (DNA sequence).\n",
    "    This is the average of base qualities.\n",
    "    Return a single number representing the quality\n",
    "    \"\"\"\n",
    "    \n",
    "    return np.mean(read.positional_metadata.loc[:, 'quality'])\n"
   ]
  },
  {
   "cell_type": "code",
   "execution_count": null,
   "metadata": {},
   "outputs": [],
   "source": [
    "print(read_quality_with_loop(readset[0]))"
   ]
  },
  {
   "cell_type": "markdown",
   "metadata": {},
   "source": [
    "## Task 3 - Compute *per sequence* quality distribution\n",
    "\n",
    "We compute read qualities for all sequences and compute a sequence quality histogram. This is done by binning the data. We will create bins of integers i.e. given an integer $i$ the interval is $[i, i + 1)$, that is all numbers between $i$ and $i + 1$ including $i$ but excluding $i + 1$.\n",
    "\n",
    "We will create a dictionary using this. Keys in the dictionary will be $i$ and values will be the number of quality scores falling in the interval $[i, i + 1)$.\n",
    "\n",
    "The `np.floor` function can be used to round down quality scores to the nearest integer."
   ]
  },
  {
   "cell_type": "code",
   "execution_count": null,
   "metadata": {},
   "outputs": [],
   "source": [
    "print(np.floor(30.01))\n",
    "print(np.floor(30.99))"
   ]
  },
  {
   "cell_type": "code",
   "execution_count": null,
   "metadata": {},
   "outputs": [],
   "source": [
    "def read_histogram_dict(reads):\n",
    "    \"\"\"\n",
    "    Compute a dictionary representing the histogram\n",
    "    Keys are the starting point of the interval\n",
    "    Values are the number of items in the interval\n",
    "    \"\"\"\n",
    "    \n",
    "    # compute read qualities for sequences\n",
    "    read_qualities = [read_quality(r) for r in reads]\n",
    "    # compute keys for each read\n",
    "    distribution_keys = [np.floor(r) for r in read_qualities]\n",
    "    \n",
    "    #build dictionary\n",
    "    hist_dict = {}\n",
    "    for k in distribution_keys:\n",
    "        if k in hist_dict.keys():\n",
    "            hist_dict[k] += 1\n",
    "        else:\n",
    "            hist_dict[k] = 1 #initialise key\n",
    "    return hist_dict\n"
   ]
  },
  {
   "cell_type": "code",
   "execution_count": null,
   "metadata": {},
   "outputs": [],
   "source": [
    "# alternate implementation using the collections.Counter function\n",
    "#     which counts the occurence of items in a list\n",
    "\n",
    "import collections\n",
    "\n",
    "def read_histogram_dict(reads):\n",
    "    \"\"\"\n",
    "    Compute a dictionary representing the histogram\n",
    "    Keys are the starting point of the interval\n",
    "    Values are the number of items in the interval\n",
    "    \"\"\"\n",
    "    \n",
    "    #get keys\n",
    "    distribution_keys = [np.floor(read_quality(r)) for r in reads]\n",
    "    return dict(collections.Counter(distribution_keys))"
   ]
  },
  {
   "cell_type": "code",
   "execution_count": null,
   "metadata": {},
   "outputs": [],
   "source": [
    "read_histogram_dict(readset[0:4]) # should give {27.0: 2, 28.0: 1, 26.0: 1}"
   ]
  },
  {
   "cell_type": "markdown",
   "metadata": {},
   "source": [
    "Lets get to plotting!"
   ]
  },
  {
   "cell_type": "code",
   "execution_count": null,
   "metadata": {},
   "outputs": [],
   "source": [
    "%matplotlib inline\n",
    "import matplotlib.pyplot as plt\n",
    "\n",
    "hist_data = read_histogram_dict(readset)\n",
    "plt.scatter(hist_data.keys(), hist_data.values())\n",
    "plt.xlabel('Phred quality score')\n",
    "plt.ylabel('Frequency')\n",
    "plt.show()"
   ]
  },
  {
   "cell_type": "markdown",
   "metadata": {},
   "source": [
    "## Task 4 - Use FastQC to perform the analysis\n",
    "\n",
    "The above analysis and more can be performed using the FastQC program. This is a Java implementation therefore is considerably faster. Use this to analyse the full readset. You can invoke terminal commands from a jupyter notebook by preceeding it with an exclamation mark as in the cell below (you can just type the command in a terminal directly).\n",
    "\n",
    "Note: fastqc can also be installed using conda using the command `conda install -c bioconda fastqc`. You can access the manual by typing `man fastqc` or `!man fastqc` in a jupyter notebook. The `man` command can be used to access manual pages for many linux commands (try `man ls`, press *q* to exit)."
   ]
  },
  {
   "cell_type": "code",
   "execution_count": null,
   "metadata": {},
   "outputs": [],
   "source": [
    "!fastqc -o ./ data/reads.fastq"
   ]
  },
  {
   "cell_type": "code",
   "execution_count": null,
   "metadata": {},
   "outputs": [],
   "source": [
    "#!fastqc -o ./ data/ERR1817984.fastq.gz"
   ]
  },
  {
   "cell_type": "markdown",
   "metadata": {},
   "source": [
    "The report can be viewed by right clicking the file (.html) and selecting *Open in New Browser Tab*"
   ]
  },
  {
   "cell_type": "markdown",
   "metadata": {},
   "source": [
    "## Task 5 - What does this all mean?\n",
    "\n",
    "The report shows some metrics where the data fails QC checks. Try answering some of these questions:\n",
    "\n",
    "1. Is this a good readset to work with? What could the downstream effect be, say, if it was to be used to perform SNP calling?\n",
    "2. How do quality scores vary across positions? Do the chemistries of sequencing assays explain this?\n",
    "3. How should the sequence composition be across positions? Would this pattern be the same across species?\n",
    "\n",
    "You should refer to this documentation to help you figure out some of these questions"
   ]
  },
  {
   "cell_type": "markdown",
   "metadata": {},
   "source": [
    "> Are you convinced of the importance of Quality Control in sequence analysis?"
   ]
  },
  {
   "cell_type": "markdown",
   "metadata": {},
   "source": [
    "This is but one layer of quality control. There are many more layers of QC depending on the task at hand. For instance, if RNA-seq was performed for the purpose of differential expression analysis, further checks and filters would need to be applied such as filtering out of genes with low read counts. QC should form an important component of all analyses and appropriate time should be invested in it. This will prevent false discoveries from being made and save a lot of people a lot of effort.\n",
    "\n",
    "When dealing with multiple readsets, MultiQC (python based!) provides a summary of all FastQC reports. See https://multiqc.info/ and play around with the example on this page. It has amazing "
   ]
  }
 ],
 "metadata": {
  "kernelspec": {
   "display_name": "Python 3",
   "language": "python",
   "name": "python3"
  },
  "language_info": {
   "codemirror_mode": {
    "name": "ipython",
    "version": 3
   },
   "file_extension": ".py",
   "mimetype": "text/x-python",
   "name": "python",
   "nbconvert_exporter": "python",
   "pygments_lexer": "ipython3",
   "version": "3.6.8"
  }
 },
 "nbformat": 4,
 "nbformat_minor": 2
}
