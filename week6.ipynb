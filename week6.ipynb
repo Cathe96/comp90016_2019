{
 "cells": [
  {
   "cell_type": "markdown",
   "metadata": {},
   "source": [
    "# Week 6 - Phylogenies\n",
    "\n",
    "## Background\n",
    "In the aftermath of a massive earthquake in Haiti there has been a dramatic and worrying increase in the number of cases of cholera, the disease caused by the bacterium Vibrio cholera. This is the first time in more than 100 years that there has been a cholera outbreak in Haiti. Urgent efforts are underway to identify the source of the outbreak. \n",
    "Fortunately, in addition to field epidemiologists carrying out shoe-leather investigations in the affected areas, we have WGS of some of the isolates from the outbreak. \n",
    " \n",
    "You are the lead bioinformatician in charge of analysing this data. You need to process and interpret the data, and feedback to the public health doctors in charge of outbreak response to provide them with the fullest picture possible.\n",
    "\n",
    "## Group Discussion\n",
    "Why might there be an increase in cholera cases following an event like an earthquake?"
   ]
  },
  {
   "cell_type": "markdown",
   "metadata": {},
   "source": [
    "~~~ Your answer here"
   ]
  },
  {
   "cell_type": "markdown",
   "metadata": {},
   "source": [
    "What is unusual about the genome of V. cholera?"
   ]
  },
  {
   "cell_type": "markdown",
   "metadata": {},
   "source": [
    "~~~ Your answer here"
   ]
  },
  {
   "cell_type": "markdown",
   "metadata": {},
   "source": [
    "## Files\n",
    "\n",
    "data/dataset1.aln contains the alignment of all the high quality variable sites found in the core genome for 19 V. cholera genomes from Haiti and 21 other V. cholera genomes from around the world.\n",
    "\n",
    "`snippy-core` was used to generate the alignment\n",
    "\n",
    "Describe the file contents, in particular the relationship between the first and subsequent bases in each of the fasta files.\n",
    "\n",
    "## Task 1 - Compute the SNP distance matrix\n",
    "\n",
    "Calculate the pairwise SNP distance between all the isolates and plot the distribution as a histogram, using the command in the cell below.\n",
    "\n",
    "disty installation `conda install -c bioconda disty`"
   ]
  },
  {
   "cell_type": "code",
   "execution_count": null,
   "metadata": {},
   "outputs": [],
   "source": [
    "!disty data/dataset1.aln > pairwise_distances.tsv"
   ]
  },
  {
   "cell_type": "markdown",
   "metadata": {},
   "source": [
    "## Task 2 - Summary of distances\n",
    "\n",
    "Import the pairwise distance matrix created from the previous step into a pandas data frame. Data is stored in the tab-separated format. Note that the resulting matrix is a symmetric matrix, which is a property of distances: $\\mathrm{dist}[i,j] = \\mathrm{dist}[j,i]$."
   ]
  },
  {
   "cell_type": "code",
   "execution_count": null,
   "metadata": {},
   "outputs": [],
   "source": [
    "import pandas as pd\n",
    "import numpy as np\n",
    "\n",
    "pwd = pd.read_csv('pairwise_distances.tsv', delimiter='\\t', encoding='utf-8', index_col=0)\n",
    "pwd.iloc[:5,:5]"
   ]
  },
  {
   "cell_type": "code",
   "execution_count": null,
   "metadata": {},
   "outputs": [],
   "source": [
    "pwd_dim = pwd.shape # get the dimensions of the data frame\n",
    "pwd_dim"
   ]
  },
  {
   "cell_type": "markdown",
   "metadata": {},
   "source": [
    "Since the distance matrix is symmetric, all summaries must be generated from one copy of the distances, therefore, one triangle of the matrix."
   ]
  },
  {
   "cell_type": "code",
   "execution_count": null,
   "metadata": {},
   "outputs": [],
   "source": [
    "#get the indices of the upper triangle, excluding the diagonals (k=1, NOT 0)\n",
    "triu_ind = np.triu_indices(pwd_dim[0], k=1)\n",
    "#follow this by extracting the distances at those loci\n",
    "distances = pwd.values[triu_ind]\n",
    "len(distances)"
   ]
  },
  {
   "cell_type": "markdown",
   "metadata": {},
   "source": [
    "Now we plot the histogram"
   ]
  },
  {
   "cell_type": "code",
   "execution_count": null,
   "metadata": {},
   "outputs": [],
   "source": [
    "%matplotlib inline\n",
    "import matplotlib.pyplot as plt\n",
    "import collections\n",
    "\n",
    "#create a dictionary representation of a histogram\n",
    "hist_data = collections.Counter(list(distances))\n",
    "#sort dictionary by keys and store into an ordered dictionary\n",
    "hist_data = collections.OrderedDict(sorted(hist_data.items()))\n",
    "\n",
    "#plot the histogram\n",
    "plt.plot(hist_data.keys(), hist_data.values())\n",
    "plt.xlabel('Distances')\n",
    "plt.ylabel('Frequency')\n",
    "plt.show()"
   ]
  },
  {
   "cell_type": "markdown",
   "metadata": {},
   "source": [
    "> OrderedDict differs from a normal dictionary in the sense that the order of items in the formed is always preserved. A normal dict does not care about the order of items in it, only preserving the key-value pairs, as such the order of items can vary. It behaves like a set, where the items in the set are always present, but their order can vary."
   ]
  },
  {
   "cell_type": "markdown",
   "metadata": {},
   "source": [
    "### Questions\n",
    "\n",
    "What is the median pairwise SNP distance? How well do you think this describes the dataset?"
   ]
  },
  {
   "cell_type": "markdown",
   "metadata": {},
   "source": [
    "~~~ Your answer here"
   ]
  },
  {
   "cell_type": "markdown",
   "metadata": {},
   "source": [
    "Is it a useful statistic - are you seeing other trends in the data from the Histogram?"
   ]
  },
  {
   "cell_type": "markdown",
   "metadata": {},
   "source": [
    "~~~ Your answer here"
   ]
  },
  {
   "cell_type": "markdown",
   "metadata": {},
   "source": [
    "What does the histogram tell you about the relatedness of the samples in your dataset?"
   ]
  },
  {
   "cell_type": "markdown",
   "metadata": {},
   "source": [
    "~~~ Your answer here"
   ]
  },
  {
   "cell_type": "markdown",
   "metadata": {},
   "source": [
    "## Task 3 - Create a phylogenetic tree\n",
    "\n",
    "At this step, you will run IQ-TREE to generate a Maximum Likelihood tree. By default IQ-TREE will also test a wide range of nucleotide substitution models to see which best fits the data. For larger alignments this can be a very time consuming step, so if speed is important, it might make sense to omit this step and use a general model (e.g. GTR). You can find more information about how to run a specific model by looking at `iqtree -h`.\n",
    "\n",
    "iqtree installation `conda install -c bioconda iqtree`"
   ]
  },
  {
   "cell_type": "code",
   "execution_count": null,
   "metadata": {},
   "outputs": [],
   "source": [
    "!iqtree -s data/dataset1.aln -nt 1"
   ]
  },
  {
   "cell_type": "markdown",
   "metadata": {},
   "source": [
    "### Questions\n",
    "\n",
    "Read the IQTREE output, which model was selected as the best?"
   ]
  },
  {
   "cell_type": "markdown",
   "metadata": {},
   "source": [
    "~~~ Your answer here"
   ]
  },
  {
   "cell_type": "markdown",
   "metadata": {},
   "source": [
    "What is the full name of the model?  Clue: what do the initials stand for?"
   ]
  },
  {
   "cell_type": "markdown",
   "metadata": {},
   "source": [
    "~~~ Your answer here"
   ]
  },
  {
   "cell_type": "markdown",
   "metadata": {},
   "source": [
    "We used one thread to perform computation. Why might the maximum number of threads (4 here) not always be selected?"
   ]
  },
  {
   "cell_type": "markdown",
   "metadata": {},
   "source": [
    "~~~ Your answer here"
   ]
  },
  {
   "cell_type": "markdown",
   "metadata": {},
   "source": [
    "## Task 4 - Visualising the tree\n",
    "\n",
    "Download the tree (the file you want is the one which ends in .treefile) to your local computer with Filezilla. You should also download the geog_loc_microreact.csv file. Change the file extension of the tree file to .nwk.\n",
    "\n",
    "Navigate to https://microreact.org/upload and upload the dataset1.aln.nwk file and the geog_loc_microreact.csv file. The microreact interface is hopefully quite intuitive, spend a few minutes becoming familiar with the various options and buttons. Microreact is an ideal way to investigate relationships between phylogeny and geography (aka phylogeographical relationships).\n",
    "\n",
    "### Questions/Tasks\n",
    "Identify the Haiti outbreak genomes in the tree."
   ]
  },
  {
   "cell_type": "markdown",
   "metadata": {},
   "source": [
    "~~~ Your answer here"
   ]
  },
  {
   "cell_type": "markdown",
   "metadata": {},
   "source": [
    "Experiment with the different tree visualisation setting. The different tree settings look like this:"
   ]
  },
  {
   "cell_type": "markdown",
   "metadata": {},
   "source": [
    "![microreact_vistypes](figures/microreact_vistypes.png)"
   ]
  },
  {
   "cell_type": "markdown",
   "metadata": {},
   "source": [
    "## Group Discussion - brief introduction to trees\n",
    "\n",
    "Are the isolates from Haiti a monophyletic group? Hint: a monophyletic group is a group which consists of all the descendents of a common ancestor.\n",
    "Is there phylogeographical signal in the V. cholerae genomes from within Haiti? You will have to zoom in on Haiti to see this i.e. are the isolates from different regions of Haiti genetically distinct from each other? Hint: You can think of this another way, looking at the data, if you were given another Haitian isolate with no geographical information, how confident would you be in your prediction of it’s geographic origin?\n",
    " \n",
    "Where is the closest neighbour of the Haiti genomes from?\n",
    " \n",
    "Group Discussion:\n",
    "What would you write is you were asked to summarise your results for the public health officials."
   ]
  }
 ],
 "metadata": {
  "kernelspec": {
   "display_name": "Python 3",
   "language": "python",
   "name": "python3"
  },
  "language_info": {
   "codemirror_mode": {
    "name": "ipython",
    "version": 3
   },
   "file_extension": ".py",
   "mimetype": "text/x-python",
   "name": "python",
   "nbconvert_exporter": "python",
   "pygments_lexer": "ipython3",
   "version": "3.6.8"
  }
 },
 "nbformat": 4,
 "nbformat_minor": 2
}
